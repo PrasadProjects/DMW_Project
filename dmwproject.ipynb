{
 "cells": [
  {
   "cell_type": "code",
   "execution_count": 1,
   "metadata": {},
   "outputs": [],
   "source": [
    "import sklearn\n",
    "from sklearn import svm\n",
    "from sklearn import datasets\n",
    "from sklearn.decomposition import PCA\n",
    "from sklearn.preprocessing import StandardScaler\n",
    "from sklearn.neighbors import KNeighborsClassifier\n",
    "from sklearn.model_selection import cross_val_score\n",
    "from sklearn.ensemble import RandomForestClassifier\n",
    "from sklearn.model_selection import train_test_split\n",
    "from sklearn.model_selection import StratifiedKFold\n",
    "from sklearn.linear_model import LogisticRegression\n",
    "from sklearn.metrics import classification_report\n",
    "from sklearn.tree import DecisionTreeClassifier\n",
    "from sklearn.metrics import confusion_matrix\n",
    "from sklearn.metrics import accuracy_score\n",
    "from sklearn.naive_bayes import GaussianNB\n",
    "from sklearn.svm import SVC\n",
    "from sklearn.discriminant_analysis import LinearDiscriminantAnalysis\n",
    "import math\n",
    "import random\n",
    "import numpy as np\n",
    "import pandas as pd\n",
    "from pandas import read_csv\n",
    "from pandas.plotting import scatter_matrix\n",
    "import matplotlib\n",
    "from matplotlib import pyplot"
   ]
  },
  {
   "cell_type": "code",
   "execution_count": 2,
   "metadata": {},
   "outputs": [],
   "source": [
    "url = \"https://raw.githubusercontent.com/jbrownlee/Datasets/master/winequality-red.csv\"\n",
    "names = ['fixed', 'volatile', 'citric', 'residual-sugar', 'chloride','total-sulphur','density','pH','sulphates','alcohol','quality']\n",
    "dataset = read_csv(url, names=names)"
   ]
  },
  {
   "cell_type": "code",
   "execution_count": 3,
   "metadata": {},
   "outputs": [],
   "source": [
    "reviews = []\n",
    "for i in dataset['quality']:\n",
    "    if i>=1 and i<=3:\n",
    "        reviews.append('1')\n",
    "    elif i >= 4 and i <= 7:\n",
    "        reviews.append('2')\n",
    "    elif i >= 8 and i <= 10:\n",
    "        reviews.append('3')\n",
    "dataset['Reviews'] = reviews"
   ]
  },
  {
   "cell_type": "code",
   "execution_count": 4,
   "metadata": {},
   "outputs": [
    {
     "data": {
      "text/plain": [
       "Index(['fixed', 'volatile', 'citric', 'residual-sugar', 'chloride',\n",
       "       'total-sulphur', 'density', 'pH', 'sulphates', 'alcohol', 'quality',\n",
       "       'Reviews'],\n",
       "      dtype='object')"
      ]
     },
     "execution_count": 4,
     "metadata": {},
     "output_type": "execute_result"
    }
   ],
   "source": [
    "dataset.columns"
   ]
  },
  {
   "cell_type": "code",
   "execution_count": 5,
   "metadata": {},
   "outputs": [
    {
     "name": "stdout",
     "output_type": "stream",
     "text": [
      "(1599, 12)\n",
      "      fixed  volatile  citric  residual-sugar  chloride  total-sulphur  \\\n",
      "7.4   0.700      0.00     1.9           0.076      11.0           34.0   \n",
      "7.8   0.880      0.00     2.6           0.098      25.0           67.0   \n",
      "7.8   0.760      0.04     2.3           0.092      15.0           54.0   \n",
      "11.2  0.280      0.56     1.9           0.075      17.0           60.0   \n",
      "7.4   0.700      0.00     1.9           0.076      11.0           34.0   \n",
      "7.4   0.660      0.00     1.8           0.075      13.0           40.0   \n",
      "7.9   0.600      0.06     1.6           0.069      15.0           59.0   \n",
      "7.3   0.650      0.00     1.2           0.065      15.0           21.0   \n",
      "7.8   0.580      0.02     2.0           0.073       9.0           18.0   \n",
      "7.5   0.500      0.36     6.1           0.071      17.0          102.0   \n",
      "6.7   0.580      0.08     1.8           0.097      15.0           65.0   \n",
      "7.5   0.500      0.36     6.1           0.071      17.0          102.0   \n",
      "5.6   0.615      0.00     1.6           0.089      16.0           59.0   \n",
      "7.8   0.610      0.29     1.6           0.114       9.0           29.0   \n",
      "8.9   0.620      0.18     3.8           0.176      52.0          145.0   \n",
      "8.9   0.620      0.19     3.9           0.170      51.0          148.0   \n",
      "8.5   0.280      0.56     1.8           0.092      35.0          103.0   \n",
      "8.1   0.560      0.28     1.7           0.368      16.0           56.0   \n",
      "7.4   0.590      0.08     4.4           0.086       6.0           29.0   \n",
      "7.9   0.320      0.51     1.8           0.341      17.0           56.0   \n",
      "\n",
      "      density    pH  sulphates  alcohol  quality Reviews  \n",
      "7.4    0.9978  3.51       0.56      9.4        5       2  \n",
      "7.8    0.9968  3.20       0.68      9.8        5       2  \n",
      "7.8    0.9970  3.26       0.65      9.8        5       2  \n",
      "11.2   0.9980  3.16       0.58      9.8        6       2  \n",
      "7.4    0.9978  3.51       0.56      9.4        5       2  \n",
      "7.4    0.9978  3.51       0.56      9.4        5       2  \n",
      "7.9    0.9964  3.30       0.46      9.4        5       2  \n",
      "7.3    0.9946  3.39       0.47     10.0        7       2  \n",
      "7.8    0.9968  3.36       0.57      9.5        7       2  \n",
      "7.5    0.9978  3.35       0.80     10.5        5       2  \n",
      "6.7    0.9959  3.28       0.54      9.2        5       2  \n",
      "7.5    0.9978  3.35       0.80     10.5        5       2  \n",
      "5.6    0.9943  3.58       0.52      9.9        5       2  \n",
      "7.8    0.9974  3.26       1.56      9.1        5       2  \n",
      "8.9    0.9986  3.16       0.88      9.2        5       2  \n",
      "8.9    0.9986  3.17       0.93      9.2        5       2  \n",
      "8.5    0.9969  3.30       0.75     10.5        7       2  \n",
      "8.1    0.9968  3.11       1.28      9.3        5       2  \n",
      "7.4    0.9974  3.38       0.50      9.0        4       2  \n",
      "7.9    0.9969  3.04       1.08      9.2        6       2  \n",
      "             fixed     volatile       citric  residual-sugar     chloride  \\\n",
      "count  1599.000000  1599.000000  1599.000000     1599.000000  1599.000000   \n",
      "mean      0.527821     0.270976     2.538806        0.087467    15.874922   \n",
      "std       0.179060     0.194801     1.409928        0.047065    10.460157   \n",
      "min       0.120000     0.000000     0.900000        0.012000     1.000000   \n",
      "25%       0.390000     0.090000     1.900000        0.070000     7.000000   \n",
      "50%       0.520000     0.260000     2.200000        0.079000    14.000000   \n",
      "75%       0.640000     0.420000     2.600000        0.090000    21.000000   \n",
      "max       1.580000     1.000000    15.500000        0.611000    72.000000   \n",
      "\n",
      "       total-sulphur      density           pH    sulphates      alcohol  \\\n",
      "count    1599.000000  1599.000000  1599.000000  1599.000000  1599.000000   \n",
      "mean       46.467792     0.996747     3.311113     0.658149    10.422983   \n",
      "std        32.895324     0.001887     0.154386     0.169507     1.065668   \n",
      "min         6.000000     0.990070     2.740000     0.330000     8.400000   \n",
      "25%        22.000000     0.995600     3.210000     0.550000     9.500000   \n",
      "50%        38.000000     0.996750     3.310000     0.620000    10.200000   \n",
      "75%        62.000000     0.997835     3.400000     0.730000    11.100000   \n",
      "max       289.000000     1.003690     4.010000     2.000000    14.900000   \n",
      "\n",
      "           quality  \n",
      "count  1599.000000  \n",
      "mean      5.636023  \n",
      "std       0.807569  \n",
      "min       3.000000  \n",
      "25%       5.000000  \n",
      "50%       6.000000  \n",
      "75%       6.000000  \n",
      "max       8.000000  \n",
      "quality\n",
      "3     10\n",
      "4     53\n",
      "5    681\n",
      "6    638\n",
      "7    199\n",
      "8     18\n",
      "dtype: int64\n"
     ]
    }
   ],
   "source": [
    "#shape\n",
    "print(dataset.shape)\n",
    "# head\n",
    "print(dataset.head(20))\n",
    "# descriptions\n",
    "print(dataset.describe())\n",
    "# class distribution\n",
    "print(dataset.groupby('quality').size())"
   ]
  },
  {
   "cell_type": "code",
   "execution_count": 6,
   "metadata": {},
   "outputs": [
    {
     "data": {
      "text/plain": [
       "array(['2', '3', '1'], dtype=object)"
      ]
     },
     "execution_count": 6,
     "metadata": {},
     "output_type": "execute_result"
    }
   ],
   "source": [
    "dataset['Reviews'].unique()"
   ]
  },
  {
   "cell_type": "code",
   "execution_count": 7,
   "metadata": {},
   "outputs": [],
   "source": [
    "x = dataset.iloc[:,:11]\n",
    "y = dataset['Reviews']"
   ]
  },
  {
   "cell_type": "code",
   "execution_count": 8,
   "metadata": {},
   "outputs": [
    {
     "data": {
      "text/html": [
       "<div>\n",
       "<style scoped>\n",
       "    .dataframe tbody tr th:only-of-type {\n",
       "        vertical-align: middle;\n",
       "    }\n",
       "\n",
       "    .dataframe tbody tr th {\n",
       "        vertical-align: top;\n",
       "    }\n",
       "\n",
       "    .dataframe thead th {\n",
       "        text-align: right;\n",
       "    }\n",
       "</style>\n",
       "<table border=\"1\" class=\"dataframe\">\n",
       "  <thead>\n",
       "    <tr style=\"text-align: right;\">\n",
       "      <th></th>\n",
       "      <th>fixed</th>\n",
       "      <th>volatile</th>\n",
       "      <th>citric</th>\n",
       "      <th>residual-sugar</th>\n",
       "      <th>chloride</th>\n",
       "      <th>total-sulphur</th>\n",
       "      <th>density</th>\n",
       "      <th>pH</th>\n",
       "      <th>sulphates</th>\n",
       "      <th>alcohol</th>\n",
       "      <th>quality</th>\n",
       "    </tr>\n",
       "  </thead>\n",
       "  <tbody>\n",
       "    <tr>\n",
       "      <td>7.4</td>\n",
       "      <td>0.70</td>\n",
       "      <td>0.00</td>\n",
       "      <td>1.9</td>\n",
       "      <td>0.076</td>\n",
       "      <td>11.0</td>\n",
       "      <td>34.0</td>\n",
       "      <td>0.9978</td>\n",
       "      <td>3.51</td>\n",
       "      <td>0.56</td>\n",
       "      <td>9.4</td>\n",
       "      <td>5</td>\n",
       "    </tr>\n",
       "    <tr>\n",
       "      <td>7.8</td>\n",
       "      <td>0.88</td>\n",
       "      <td>0.00</td>\n",
       "      <td>2.6</td>\n",
       "      <td>0.098</td>\n",
       "      <td>25.0</td>\n",
       "      <td>67.0</td>\n",
       "      <td>0.9968</td>\n",
       "      <td>3.20</td>\n",
       "      <td>0.68</td>\n",
       "      <td>9.8</td>\n",
       "      <td>5</td>\n",
       "    </tr>\n",
       "    <tr>\n",
       "      <td>7.8</td>\n",
       "      <td>0.76</td>\n",
       "      <td>0.04</td>\n",
       "      <td>2.3</td>\n",
       "      <td>0.092</td>\n",
       "      <td>15.0</td>\n",
       "      <td>54.0</td>\n",
       "      <td>0.9970</td>\n",
       "      <td>3.26</td>\n",
       "      <td>0.65</td>\n",
       "      <td>9.8</td>\n",
       "      <td>5</td>\n",
       "    </tr>\n",
       "    <tr>\n",
       "      <td>11.2</td>\n",
       "      <td>0.28</td>\n",
       "      <td>0.56</td>\n",
       "      <td>1.9</td>\n",
       "      <td>0.075</td>\n",
       "      <td>17.0</td>\n",
       "      <td>60.0</td>\n",
       "      <td>0.9980</td>\n",
       "      <td>3.16</td>\n",
       "      <td>0.58</td>\n",
       "      <td>9.8</td>\n",
       "      <td>6</td>\n",
       "    </tr>\n",
       "    <tr>\n",
       "      <td>7.4</td>\n",
       "      <td>0.70</td>\n",
       "      <td>0.00</td>\n",
       "      <td>1.9</td>\n",
       "      <td>0.076</td>\n",
       "      <td>11.0</td>\n",
       "      <td>34.0</td>\n",
       "      <td>0.9978</td>\n",
       "      <td>3.51</td>\n",
       "      <td>0.56</td>\n",
       "      <td>9.4</td>\n",
       "      <td>5</td>\n",
       "    </tr>\n",
       "    <tr>\n",
       "      <td>7.4</td>\n",
       "      <td>0.66</td>\n",
       "      <td>0.00</td>\n",
       "      <td>1.8</td>\n",
       "      <td>0.075</td>\n",
       "      <td>13.0</td>\n",
       "      <td>40.0</td>\n",
       "      <td>0.9978</td>\n",
       "      <td>3.51</td>\n",
       "      <td>0.56</td>\n",
       "      <td>9.4</td>\n",
       "      <td>5</td>\n",
       "    </tr>\n",
       "    <tr>\n",
       "      <td>7.9</td>\n",
       "      <td>0.60</td>\n",
       "      <td>0.06</td>\n",
       "      <td>1.6</td>\n",
       "      <td>0.069</td>\n",
       "      <td>15.0</td>\n",
       "      <td>59.0</td>\n",
       "      <td>0.9964</td>\n",
       "      <td>3.30</td>\n",
       "      <td>0.46</td>\n",
       "      <td>9.4</td>\n",
       "      <td>5</td>\n",
       "    </tr>\n",
       "    <tr>\n",
       "      <td>7.3</td>\n",
       "      <td>0.65</td>\n",
       "      <td>0.00</td>\n",
       "      <td>1.2</td>\n",
       "      <td>0.065</td>\n",
       "      <td>15.0</td>\n",
       "      <td>21.0</td>\n",
       "      <td>0.9946</td>\n",
       "      <td>3.39</td>\n",
       "      <td>0.47</td>\n",
       "      <td>10.0</td>\n",
       "      <td>7</td>\n",
       "    </tr>\n",
       "    <tr>\n",
       "      <td>7.8</td>\n",
       "      <td>0.58</td>\n",
       "      <td>0.02</td>\n",
       "      <td>2.0</td>\n",
       "      <td>0.073</td>\n",
       "      <td>9.0</td>\n",
       "      <td>18.0</td>\n",
       "      <td>0.9968</td>\n",
       "      <td>3.36</td>\n",
       "      <td>0.57</td>\n",
       "      <td>9.5</td>\n",
       "      <td>7</td>\n",
       "    </tr>\n",
       "    <tr>\n",
       "      <td>7.5</td>\n",
       "      <td>0.50</td>\n",
       "      <td>0.36</td>\n",
       "      <td>6.1</td>\n",
       "      <td>0.071</td>\n",
       "      <td>17.0</td>\n",
       "      <td>102.0</td>\n",
       "      <td>0.9978</td>\n",
       "      <td>3.35</td>\n",
       "      <td>0.80</td>\n",
       "      <td>10.5</td>\n",
       "      <td>5</td>\n",
       "    </tr>\n",
       "  </tbody>\n",
       "</table>\n",
       "</div>"
      ],
      "text/plain": [
       "      fixed  volatile  citric  residual-sugar  chloride  total-sulphur  \\\n",
       "7.4    0.70      0.00     1.9           0.076      11.0           34.0   \n",
       "7.8    0.88      0.00     2.6           0.098      25.0           67.0   \n",
       "7.8    0.76      0.04     2.3           0.092      15.0           54.0   \n",
       "11.2   0.28      0.56     1.9           0.075      17.0           60.0   \n",
       "7.4    0.70      0.00     1.9           0.076      11.0           34.0   \n",
       "7.4    0.66      0.00     1.8           0.075      13.0           40.0   \n",
       "7.9    0.60      0.06     1.6           0.069      15.0           59.0   \n",
       "7.3    0.65      0.00     1.2           0.065      15.0           21.0   \n",
       "7.8    0.58      0.02     2.0           0.073       9.0           18.0   \n",
       "7.5    0.50      0.36     6.1           0.071      17.0          102.0   \n",
       "\n",
       "      density    pH  sulphates  alcohol  quality  \n",
       "7.4    0.9978  3.51       0.56      9.4        5  \n",
       "7.8    0.9968  3.20       0.68      9.8        5  \n",
       "7.8    0.9970  3.26       0.65      9.8        5  \n",
       "11.2   0.9980  3.16       0.58      9.8        6  \n",
       "7.4    0.9978  3.51       0.56      9.4        5  \n",
       "7.4    0.9978  3.51       0.56      9.4        5  \n",
       "7.9    0.9964  3.30       0.46      9.4        5  \n",
       "7.3    0.9946  3.39       0.47     10.0        7  \n",
       "7.8    0.9968  3.36       0.57      9.5        7  \n",
       "7.5    0.9978  3.35       0.80     10.5        5  "
      ]
     },
     "execution_count": 8,
     "metadata": {},
     "output_type": "execute_result"
    }
   ],
   "source": [
    "x.head(10)"
   ]
  },
  {
   "cell_type": "code",
   "execution_count": 9,
   "metadata": {},
   "outputs": [
    {
     "data": {
      "text/plain": [
       "7.4     2\n",
       "7.8     2\n",
       "7.8     2\n",
       "11.2    2\n",
       "7.4     2\n",
       "7.4     2\n",
       "7.9     2\n",
       "7.3     2\n",
       "7.8     2\n",
       "7.5     2\n",
       "Name: Reviews, dtype: object"
      ]
     },
     "execution_count": 9,
     "metadata": {},
     "output_type": "execute_result"
    }
   ],
   "source": [
    "y.head(10)"
   ]
  },
  {
   "cell_type": "code",
   "execution_count": 10,
   "metadata": {},
   "outputs": [],
   "source": [
    "sc = StandardScaler()\n",
    "x = sc.fit_transform(x)"
   ]
  },
  {
   "cell_type": "code",
   "execution_count": 11,
   "metadata": {},
   "outputs": [
    {
     "name": "stdout",
     "output_type": "stream",
     "text": [
      "[[ 0.96187667 -1.39147228 -0.45321841 ... -0.57920652 -0.96024611\n",
      "  -0.78782264]\n",
      " [ 1.96744245 -1.39147228  0.04341614 ...  0.1289504  -0.58477711\n",
      "  -0.78782264]\n",
      " [ 1.29706527 -1.18607043 -0.16942723 ... -0.04808883 -0.58477711\n",
      "  -0.78782264]\n",
      " ...\n",
      " [-0.09955388 -0.72391627 -0.16942723 ...  0.54204194  0.54162988\n",
      "   0.45084835]\n",
      " [ 0.65462046 -0.77526673 -0.38227061 ...  0.30598963 -0.20930812\n",
      "  -0.78782264]\n",
      " [-1.21684919  1.02199944  0.75289408 ...  0.01092425  0.54162988\n",
      "   0.45084835]]\n"
     ]
    }
   ],
   "source": [
    "print(x)"
   ]
  },
  {
   "cell_type": "code",
   "execution_count": 12,
   "metadata": {},
   "outputs": [],
   "source": [
    "pca = PCA()\n",
    "x_pca = pca.fit_transform(x)"
   ]
  },
  {
   "cell_type": "code",
   "execution_count": 13,
   "metadata": {},
   "outputs": [],
   "source": [
    "pca_new = PCA(n_components=8)\n",
    "x_new = pca_new.fit_transform(x)"
   ]
  },
  {
   "cell_type": "code",
   "execution_count": 14,
   "metadata": {},
   "outputs": [
    {
     "name": "stdout",
     "output_type": "stream",
     "text": [
      "[[-1.87761859  1.1924937  -1.09932272 ... -0.9924877   0.10611918\n",
      "  -0.15307201]\n",
      " [-0.92435907  2.08738953  0.14544332 ...  0.48709863 -1.27230599\n",
      "   0.42065965]\n",
      " [-0.92897041  1.41071244 -0.58312215 ...  0.16894209 -0.6964114\n",
      "   0.32569739]\n",
      " ...\n",
      " [-0.72545087 -0.5125834   1.2099803  ... -0.58025824 -0.07422021\n",
      "  -0.21241432]\n",
      " [-1.72667294  0.72634347  1.01356296 ... -0.81790088  0.66161291\n",
      "   0.09719617]\n",
      " [ 0.50917641 -1.25797039  0.95124124 ... -0.00744379  0.94900514\n",
      "  -0.22486104]]\n"
     ]
    }
   ],
   "source": [
    "print(x_new)"
   ]
  },
  {
   "cell_type": "code",
   "execution_count": 15,
   "metadata": {},
   "outputs": [],
   "source": [
    "from sklearn.model_selection import train_test_split"
   ]
  },
  {
   "cell_type": "code",
   "execution_count": 16,
   "metadata": {},
   "outputs": [],
   "source": [
    "x_train, x_test, y_train, y_test = train_test_split(x_new, y, test_size = 0.25)"
   ]
  },
  {
   "cell_type": "code",
   "execution_count": 17,
   "metadata": {},
   "outputs": [
    {
     "name": "stdout",
     "output_type": "stream",
     "text": [
      "(1199, 8)\n",
      "(1199,)\n",
      "(400, 8)\n",
      "(400,)\n"
     ]
    }
   ],
   "source": [
    "print(x_train.shape)\n",
    "print(y_train.shape)\n",
    "print(x_test.shape)\n",
    "print(y_test.shape)"
   ]
  },
  {
   "cell_type": "code",
   "execution_count": 18,
   "metadata": {},
   "outputs": [],
   "source": [
    "from sklearn.linear_model import LogisticRegression\n",
    "from sklearn.metrics import confusion_matrix, accuracy_score"
   ]
  },
  {
   "cell_type": "code",
   "execution_count": 19,
   "metadata": {},
   "outputs": [
    {
     "name": "stderr",
     "output_type": "stream",
     "text": [
      "/Users/ninad/opt/anaconda3/lib/python3.7/site-packages/sklearn/linear_model/logistic.py:432: FutureWarning: Default solver will be changed to 'lbfgs' in 0.22. Specify a solver to silence this warning.\n",
      "  FutureWarning)\n",
      "/Users/ninad/opt/anaconda3/lib/python3.7/site-packages/sklearn/linear_model/logistic.py:469: FutureWarning: Default multi_class will be changed to 'auto' in 0.22. Specify the multi_class option to silence this warning.\n",
      "  \"this warning.\", FutureWarning)\n"
     ]
    }
   ],
   "source": [
    "lr = LogisticRegression()\n",
    "lr.fit(x_train, y_train)\n",
    "lr_predict = lr.predict(x_test)"
   ]
  },
  {
   "cell_type": "code",
   "execution_count": 21,
   "metadata": {},
   "outputs": [
    {
     "name": "stdout",
     "output_type": "stream",
     "text": [
      "[[  0   6   0]\n",
      " [  0 392   0]\n",
      " [  0   2   0]]\n",
      "98.0\n"
     ]
    }
   ],
   "source": [
    "lr_conf_matrix = confusion_matrix(y_test, lr_predict)\n",
    "lr_acc_score = accuracy_score(y_test, lr_predict)\n",
    "print(lr_conf_matrix)\n",
    "print(lr_acc_score*100)"
   ]
  },
  {
   "cell_type": "code",
   "execution_count": 22,
   "metadata": {},
   "outputs": [],
   "source": [
    "from sklearn.tree import DecisionTreeClassifier"
   ]
  },
  {
   "cell_type": "code",
   "execution_count": 23,
   "metadata": {},
   "outputs": [],
   "source": [
    "dt = DecisionTreeClassifier()\n",
    "dt.fit(x_train,y_train)\n",
    "dt_predict = dt.predict(x_test)"
   ]
  },
  {
   "cell_type": "code",
   "execution_count": 24,
   "metadata": {},
   "outputs": [
    {
     "name": "stdout",
     "output_type": "stream",
     "text": [
      "[[  0   6   0]\n",
      " [  0 392   0]\n",
      " [  0   0   2]]\n",
      "98.5\n"
     ]
    }
   ],
   "source": [
    "dt_conf_matrix = confusion_matrix(y_test, dt_predict)\n",
    "dt_acc_score = accuracy_score(y_test, dt_predict)\n",
    "print(dt_conf_matrix)\n",
    "print(dt_acc_score*100)"
   ]
  },
  {
   "cell_type": "code",
   "execution_count": 25,
   "metadata": {},
   "outputs": [],
   "source": [
    "nb = GaussianNB()\n",
    "nb.fit(x_train,y_train)\n",
    "nb_predict=nb.predict(x_test)"
   ]
  },
  {
   "cell_type": "code",
   "execution_count": 26,
   "metadata": {},
   "outputs": [
    {
     "name": "stdout",
     "output_type": "stream",
     "text": [
      "[[  1   5   0]\n",
      " [  0 392   0]\n",
      " [  0   0   2]]\n",
      "98.75\n"
     ]
    }
   ],
   "source": [
    "nb_conf_matrix = confusion_matrix(y_test, nb_predict)\n",
    "nb_acc_score = accuracy_score(y_test, nb_predict)\n",
    "print(nb_conf_matrix)\n",
    "print(nb_acc_score*100)"
   ]
  },
  {
   "cell_type": "code",
   "execution_count": 27,
   "metadata": {},
   "outputs": [
    {
     "name": "stderr",
     "output_type": "stream",
     "text": [
      "/Users/ninad/opt/anaconda3/lib/python3.7/site-packages/sklearn/ensemble/forest.py:245: FutureWarning: The default value of n_estimators will change from 10 in version 0.20 to 100 in 0.22.\n",
      "  \"10 in version 0.20 to 100 in 0.22.\", FutureWarning)\n"
     ]
    }
   ],
   "source": [
    "rf = RandomForestClassifier()\n",
    "rf.fit(x_train, y_train)\n",
    "rf_predict=rf.predict(x_test)"
   ]
  },
  {
   "cell_type": "code",
   "execution_count": 28,
   "metadata": {},
   "outputs": [
    {
     "name": "stdout",
     "output_type": "stream",
     "text": [
      "[[  0   6   0]\n",
      " [  0 392   0]\n",
      " [  0   1   1]]\n",
      "98.25\n"
     ]
    }
   ],
   "source": [
    "rf_conf_matrix = confusion_matrix(y_test, rf_predict)\n",
    "rf_acc_score = accuracy_score(y_test, rf_predict)\n",
    "print(rf_conf_matrix)\n",
    "print(rf_acc_score*100)"
   ]
  },
  {
   "cell_type": "code",
   "execution_count": 29,
   "metadata": {},
   "outputs": [],
   "source": [
    "from sklearn.svm import SVC"
   ]
  },
  {
   "cell_type": "code",
   "execution_count": 30,
   "metadata": {},
   "outputs": [
    {
     "name": "stderr",
     "output_type": "stream",
     "text": [
      "/Users/ninad/opt/anaconda3/lib/python3.7/site-packages/sklearn/svm/base.py:193: FutureWarning: The default value of gamma will change from 'auto' to 'scale' in version 0.22 to account better for unscaled features. Set gamma explicitly to 'auto' or 'scale' to avoid this warning.\n",
      "  \"avoid this warning.\", FutureWarning)\n"
     ]
    }
   ],
   "source": [
    "lin_svc = SVC()\n",
    "lin_svc.fit(x_train, y_train)\n",
    "predict=lin_svc.predict(x_test)"
   ]
  },
  {
   "cell_type": "code",
   "execution_count": 31,
   "metadata": {},
   "outputs": [
    {
     "name": "stdout",
     "output_type": "stream",
     "text": [
      "[[  0   6   0]\n",
      " [  0 392   0]\n",
      " [  0   1   1]]\n",
      "98.25\n"
     ]
    }
   ],
   "source": [
    "lin_svc_conf_matrix = confusion_matrix(y_test, rf_predict)\n",
    "lin_svc_acc_score = accuracy_score(y_test, rf_predict)\n",
    "print(lin_svc_conf_matrix)\n",
    "print(lin_svc_acc_score*100)"
   ]
  },
  {
   "cell_type": "code",
   "execution_count": 32,
   "metadata": {},
   "outputs": [
    {
     "name": "stdout",
     "output_type": "stream",
     "text": [
      "              precision    recall  f1-score   support\n",
      "\n",
      "           1       0.00      0.00      0.00         6\n",
      "           2       0.98      1.00      0.99       392\n",
      "           3       1.00      1.00      1.00         2\n",
      "\n",
      "    accuracy                           0.98       400\n",
      "   macro avg       0.66      0.67      0.66       400\n",
      "weighted avg       0.97      0.98      0.98       400\n",
      "\n"
     ]
    },
    {
     "name": "stderr",
     "output_type": "stream",
     "text": [
      "/Users/ninad/opt/anaconda3/lib/python3.7/site-packages/sklearn/metrics/classification.py:1437: UndefinedMetricWarning: Precision and F-score are ill-defined and being set to 0.0 in labels with no predicted samples.\n",
      "  'precision', 'predicted', average, warn_for)\n"
     ]
    }
   ],
   "source": [
    "print(classification_report(y_test,predict))"
   ]
  },
  {
   "cell_type": "code",
   "execution_count": null,
   "metadata": {},
   "outputs": [],
   "source": []
  }
 ],
 "metadata": {
  "kernelspec": {
   "display_name": "Python 3",
   "language": "python",
   "name": "python3"
  },
  "language_info": {
   "codemirror_mode": {
    "name": "ipython",
    "version": 3
   },
   "file_extension": ".py",
   "mimetype": "text/x-python",
   "name": "python",
   "nbconvert_exporter": "python",
   "pygments_lexer": "ipython3",
   "version": "3.8.3"
  }
 },
 "nbformat": 4,
 "nbformat_minor": 2
}
